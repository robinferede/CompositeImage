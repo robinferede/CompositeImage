{
 "cells": [
  {
   "cell_type": "code",
   "execution_count": 33,
   "id": "e13de076",
   "metadata": {},
   "outputs": [],
   "source": [
    "import cv2\n",
    "import numpy as np\n",
    "import matplotlib.pyplot as plt\n",
    "\n",
    "file = 'example.mp4'\n",
    "cap = cv2.VideoCapture(file)\n",
    "\n",
    "frames = []\n",
    "gray_frames = []\n",
    "\n",
    "while(cap.isOpened()):\n",
    "    ret, frame = cap.read()\n",
    "\n",
    "    if ret:\n",
    "        frames.append(frame)\n",
    "        \n",
    "        gray_frame = cv2.cvtColor(frame, cv2.COLOR_BGR2GRAY)\n",
    "        gray_frames.append(gray_frame)\n",
    "    else:\n",
    "        break\n",
    "        \n",
    "    key = cv2.waitKeyEx(1)\n",
    "    \n",
    "    if key == 27:\n",
    "        break\n",
    "    \n",
    "\n",
    "cap.release()\n",
    "cv2.destroyAllWindows()"
   ]
  },
  {
   "cell_type": "code",
   "execution_count": 39,
   "id": "18d4f151",
   "metadata": {},
   "outputs": [],
   "source": [
    "gray_frames_array = np.stack(gray_frames)"
   ]
  },
  {
   "cell_type": "code",
   "execution_count": 40,
   "id": "a360a11a",
   "metadata": {},
   "outputs": [],
   "source": [
    "background = np.median(gray_frames_array, axis=0)\n",
    "background = background.astype('uint8')"
   ]
  },
  {
   "cell_type": "code",
   "execution_count": 41,
   "id": "f0c70596",
   "metadata": {},
   "outputs": [],
   "source": [
    "cap = cv2.VideoCapture(file)\n",
    "# cv2.namedWindow(\"frame\", cv2.WINDOW_NORMAL) \n",
    "\n",
    "drone_frames = []\n",
    "masks = []\n",
    "\n",
    "while(cap.isOpened()):\n",
    "    ret, frame = cap.read()\n",
    "\n",
    "    if ret:\n",
    "        frames.append(frame)\n",
    "        \n",
    "        gray_frame = cv2.cvtColor(frame, cv2.COLOR_BGR2GRAY)\n",
    "        gray_frames.append(gray_frame)\n",
    "\n",
    "        dframe = cv2.absdiff(gray_frame, background)\n",
    "        th, mask = cv2.threshold(dframe, 10, 255, cv2.THRESH_BINARY)\n",
    "        masks.append(mask)\n",
    "        \n",
    "        frame = cv2.bitwise_and(frame, frame, mask=mask)\n",
    "        drone_frames.append(frame)\n",
    "        \n",
    "        # cv2.imshow('frame', frame)  \n",
    "    else:\n",
    "        break\n",
    "    key = cv2.waitKeyEx(1)\n",
    "    \n",
    "    if key == 27:\n",
    "        break\n",
    "    \n",
    "\n",
    "cap.release()\n",
    "cv2.destroyAllWindows()"
   ]
  },
  {
   "cell_type": "code",
   "execution_count": 42,
   "id": "70bec459",
   "metadata": {},
   "outputs": [
    {
     "data": {
      "text/plain": [
       "222"
      ]
     },
     "execution_count": 42,
     "metadata": {},
     "output_type": "execute_result"
    }
   ],
   "source": [
    "len(drone_frames)"
   ]
  },
  {
   "cell_type": "code",
   "execution_count": 48,
   "id": "505df2bc",
   "metadata": {},
   "outputs": [],
   "source": [
    "image = frames[0]\n",
    "start_index = 0\n",
    "end_index = len(drone_frames)-1\n",
    "for i in reversed(range(start_index,end_index,2)):\n",
    "    mask = cv2.bitwise_not(masks[i])\n",
    "    image = cv2.bitwise_and(image, image, mask=mask)\n",
    "    image = cv2.add(image, drone_frames[i])\n",
    "#     image = cv2.addWeighted(image, 1,drone_frames[i],0.5,0)"
   ]
  },
  {
   "cell_type": "code",
   "execution_count": 49,
   "id": "ba433c50",
   "metadata": {},
   "outputs": [],
   "source": [
    "cv2.namedWindow(\"frame\", cv2.WINDOW_NORMAL)\n",
    "\n",
    "while True:\n",
    "    cv2.imshow('frame', image)\n",
    "    \n",
    "    key = cv2.waitKeyEx(1)\n",
    "    \n",
    "    # Press esc to exit\n",
    "    if key == 27:\n",
    "        break\n",
    "cv2.destroyAllWindows()"
   ]
  },
  {
   "cell_type": "code",
   "execution_count": 50,
   "id": "280d3199",
   "metadata": {},
   "outputs": [
    {
     "data": {
      "text/plain": [
       "True"
      ]
     },
     "execution_count": 50,
     "metadata": {},
     "output_type": "execute_result"
    }
   ],
   "source": [
    "cv2.imwrite('composite.png', image, [cv2.IMWRITE_PNG_COMPRESSION, 0])"
   ]
  }
 ],
 "metadata": {
  "kernelspec": {
   "display_name": "Python 3 (ipykernel)",
   "language": "python",
   "name": "python3"
  },
  "language_info": {
   "codemirror_mode": {
    "name": "ipython",
    "version": 3
   },
   "file_extension": ".py",
   "mimetype": "text/x-python",
   "name": "python",
   "nbconvert_exporter": "python",
   "pygments_lexer": "ipython3",
   "version": "3.11.6"
  }
 },
 "nbformat": 4,
 "nbformat_minor": 5
}
